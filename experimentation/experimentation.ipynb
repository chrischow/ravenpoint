{
 "cells": [
  {
   "cell_type": "markdown",
   "id": "7377b817-560f-4a53-b3f3-df2ea10e9d09",
   "metadata": {},
   "source": [
    "# Experimentation"
   ]
  },
  {
   "cell_type": "markdown",
   "id": "9097ea79-395e-40c2-96a2-80b3035a0788",
   "metadata": {},
   "source": [
    "## Parser for OData Queries"
   ]
  },
  {
   "cell_type": "code",
   "execution_count": 141,
   "id": "73c07dda-1433-4b9e-a56a-1248f5fe8ac2",
   "metadata": {},
   "outputs": [],
   "source": [
    "# Test cases\n",
    "test_cases = [\n",
    "    \"ColA eq 3\",\n",
    "    \"ColB eq 'abc'\",\n",
    "    \"ColA eq 3 and ColB eq 'abc'\",\n",
    "    \"startswith(ColA, 'hello')\",\n",
    "    \"(ColA eq 3 and ColB eq 'abc') or (ColC eq 55 and ColD = 'lel')\",\n",
    "    \"startswith(ColA, 'hello') and substringof('hello', ColB)\",\n",
    "]"
   ]
  },
  {
   "cell_type": "code",
   "execution_count": 145,
   "id": "54806661-82f8-49b2-a1de-799da46be85c",
   "metadata": {},
   "outputs": [],
   "source": [
    "import re\n",
    "\n",
    "def parse_odata_filter(query):\n",
    "    # lt\n",
    "    query = query.replace(' lt ', ' < ')\n",
    "    # le\n",
    "    query = query.replace(' le ', ' <= ')\n",
    "    # gt\n",
    "    query = query.replace(' gt ', ' > ')\n",
    "    # ge\n",
    "    query = query.replace(' ge ', ' >= ')\n",
    "    # eq\n",
    "    query = query.replace(' eq ', ' = ')\n",
    "    # ne\n",
    "    query = query.replace(' ne ', ' != ')\n",
    "    # startswith(column, string)\n",
    "    matches_sw = re.match('startswith\\(.*?\\)', query.lower())\n",
    "    if matches_sw:\n",
    "        span_sw = matches_sw.span()\n",
    "        sw_query = query[span_sw[0]:span_sw[1]]\n",
    "        # Extract text between brackets\n",
    "        sw_terms = re.sub('.*\\(', '', sw_query)\n",
    "        sw_terms = re.sub('\\).*', '', sw_terms)\n",
    "        sw_terms = [s.strip() for s in sw_terms.split(',')]\n",
    "        sw_terms[1] = re.sub('[^a-zA-Z0-9]', '', sw_terms[1])\n",
    "        query = re.sub(sw_query.replace('(', '\\(').replace(')', '\\)'), f\"{sw_terms[0]} LIKE '{sw_terms[1]}%'\", query)\n",
    "        \n",
    "    # substringof(string, column)\n",
    "    matches_so = re.search('substringof\\(.*?\\)', query.lower())\n",
    "    if matches_so:\n",
    "        span_so = matches_so.span()\n",
    "        so_query = query[span_so[0]:span_so[1]]\n",
    "        # Extract text between brackets\n",
    "        so_terms = re.sub('.*\\(', '', so_query)\n",
    "        so_terms = re.sub('\\).*', '', so_terms)\n",
    "        so_terms = [s.strip() for s in so_terms.split(',')]\n",
    "        so_terms[0] = re.sub('[^a-zA-Z0-9]', '', so_terms[0])\n",
    "        query = re.sub(so_query.replace('(', '\\(').replace(')', '\\)'), f\"{so_terms[1]} LIKE '%{so_terms[0]}%'\", query)\n",
    "    # day()\n",
    "    # month()\n",
    "    # year()\n",
    "    # hour()\n",
    "    # minute()\n",
    "    # second()\n",
    "    return query"
   ]
  },
  {
   "cell_type": "code",
   "execution_count": 146,
   "id": "1ac09972-95bc-4b99-a464-936d9f51525d",
   "metadata": {},
   "outputs": [
    {
     "data": {
      "text/plain": [
       "\"ColA LIKE 'hello%' and ColB LIKE '%hello%'\""
      ]
     },
     "execution_count": 146,
     "metadata": {},
     "output_type": "execute_result"
    }
   ],
   "source": [
    "parse_odata_filter(test_cases[-1])"
   ]
  },
  {
   "cell_type": "code",
   "execution_count": null,
   "id": "50c73676-f11a-420b-bbec-f933fd64dc48",
   "metadata": {},
   "outputs": [],
   "source": []
  },
  {
   "cell_type": "code",
   "execution_count": 147,
   "id": "5c8f61af-a3e1-465f-b43e-64cf1c735e3b",
   "metadata": {},
   "outputs": [
    {
     "name": "stdout",
     "output_type": "stream",
     "text": [
      "ColA = 3\n",
      "ColB = 'abc'\n",
      "ColA = 3 and ColB = 'abc'\n",
      "ColA LIKE 'hello%'\n",
      "(ColA = 3 and ColB = 'abc') or (ColC = 55 and ColD = 'lel')\n",
      "ColA LIKE 'hello%' and ColB LIKE '%hello%'\n"
     ]
    }
   ],
   "source": [
    "for test_case in test_cases:\n",
    "    print(parse_odata_filter(test_case))"
   ]
  },
  {
   "cell_type": "code",
   "execution_count": null,
   "id": "0ee5e56e-889c-42ba-a908-c5631641dd8c",
   "metadata": {},
   "outputs": [],
   "source": []
  }
 ],
 "metadata": {
  "kernelspec": {
   "display_name": "ravenpoint",
   "language": "python",
   "name": "ravenpoint"
  },
  "language_info": {
   "codemirror_mode": {
    "name": "ipython",
    "version": 3
   },
   "file_extension": ".py",
   "mimetype": "text/x-python",
   "name": "python",
   "nbconvert_exporter": "python",
   "pygments_lexer": "ipython3",
   "version": "3.9.12"
  }
 },
 "nbformat": 4,
 "nbformat_minor": 5
}
