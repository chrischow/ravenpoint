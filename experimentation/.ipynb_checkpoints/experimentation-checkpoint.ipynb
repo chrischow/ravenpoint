{
 "cells": [
  {
   "cell_type": "markdown",
   "id": "7377b817-560f-4a53-b3f3-df2ea10e9d09",
   "metadata": {},
   "source": [
    "# Experimentation"
   ]
  },
  {
   "cell_type": "markdown",
   "id": "9097ea79-395e-40c2-96a2-80b3035a0788",
   "metadata": {},
   "source": [
    "## Parser for OData Queries"
   ]
  },
  {
   "cell_type": "code",
   "execution_count": 141,
   "id": "73c07dda-1433-4b9e-a56a-1248f5fe8ac2",
   "metadata": {},
   "outputs": [],
   "source": [
    "# Test cases\n",
    "test_cases = [\n",
    "    \"ColA eq 3\",\n",
    "    \"ColB eq 'abc'\",\n",
    "    \"ColA eq 3 and ColB eq 'abc'\",\n",
    "    \"startswith(ColA, 'hello')\",\n",
    "    \"(ColA eq 3 and ColB eq 'abc') or (ColC eq 55 and ColD = 'lel')\",\n",
    "    \"startswith(ColA, 'hello') and substringof('hello', ColB)\",\n",
    "]"
   ]
  },
  {
   "cell_type": "code",
   "execution_count": 145,
   "id": "54806661-82f8-49b2-a1de-799da46be85c",
   "metadata": {},
   "outputs": [],
   "source": [
    "import re\n",
    "\n",
    "def parse_odata_filter(query):\n",
    "    # lt\n",
    "    query = query.replace(' lt ', ' < ')\n",
    "    # le\n",
    "    query = query.replace(' le ', ' <= ')\n",
    "    # gt\n",
    "    query = query.replace(' gt ', ' > ')\n",
    "    # ge\n",
    "    query = query.replace(' ge ', ' >= ')\n",
    "    # eq\n",
    "    query = query.replace(' eq ', ' = ')\n",
    "    # ne\n",
    "    query = query.replace(' ne ', ' != ')\n",
    "    # startswith(column, string)\n",
    "    matches_sw = re.match('startswith\\(.*?\\)', query.lower())\n",
    "    if matches_sw:\n",
    "        span_sw = matches_sw.span()\n",
    "        sw_query = query[span_sw[0]:span_sw[1]]\n",
    "        # Extract text between brackets\n",
    "        sw_terms = re.sub('.*\\(', '', sw_query)\n",
    "        sw_terms = re.sub('\\).*', '', sw_terms)\n",
    "        sw_terms = [s.strip() for s in sw_terms.split(',')]\n",
    "        sw_terms[1] = re.sub('[^a-zA-Z0-9]', '', sw_terms[1])\n",
    "        query = re.sub(sw_query.replace('(', '\\(').replace(')', '\\)'), f\"{sw_terms[0]} LIKE '{sw_terms[1]}%'\", query)\n",
    "        \n",
    "    # substringof(string, column)\n",
    "    matches_so = re.search('substringof\\(.*?\\)', query.lower())\n",
    "    if matches_so:\n",
    "        span_so = matches_so.span()\n",
    "        so_query = query[span_so[0]:span_so[1]]\n",
    "        # Extract text between brackets\n",
    "        so_terms = re.sub('.*\\(', '', so_query)\n",
    "        so_terms = re.sub('\\).*', '', so_terms)\n",
    "        so_terms = [s.strip() for s in so_terms.split(',')]\n",
    "        so_terms[0] = re.sub('[^a-zA-Z0-9]', '', so_terms[0])\n",
    "        query = re.sub(so_query.replace('(', '\\(').replace(')', '\\)'), f\"{so_terms[1]} LIKE '%{so_terms[0]}%'\", query)\n",
    "    # day()\n",
    "    # month()\n",
    "    # year()\n",
    "    # hour()\n",
    "    # minute()\n",
    "    # second()\n",
    "    return query"
   ]
  },
  {
   "cell_type": "code",
   "execution_count": 146,
   "id": "1ac09972-95bc-4b99-a464-936d9f51525d",
   "metadata": {},
   "outputs": [
    {
     "data": {
      "text/plain": [
       "\"ColA LIKE 'hello%' and ColB LIKE '%hello%'\""
      ]
     },
     "execution_count": 146,
     "metadata": {},
     "output_type": "execute_result"
    }
   ],
   "source": [
    "parse_odata_filter(test_cases[-1])"
   ]
  },
  {
   "cell_type": "code",
   "execution_count": null,
   "id": "50c73676-f11a-420b-bbec-f933fd64dc48",
   "metadata": {},
   "outputs": [],
   "source": []
  },
  {
   "cell_type": "code",
   "execution_count": 147,
   "id": "5c8f61af-a3e1-465f-b43e-64cf1c735e3b",
   "metadata": {},
   "outputs": [
    {
     "name": "stdout",
     "output_type": "stream",
     "text": [
      "ColA = 3\n",
      "ColB = 'abc'\n",
      "ColA = 3 and ColB = 'abc'\n",
      "ColA LIKE 'hello%'\n",
      "(ColA = 3 and ColB = 'abc') or (ColC = 55 and ColD = 'lel')\n",
      "ColA LIKE 'hello%' and ColB LIKE '%hello%'\n"
     ]
    }
   ],
   "source": [
    "for test_case in test_cases:\n",
    "    print(parse_odata_filter(test_case))"
   ]
  },
  {
   "cell_type": "code",
   "execution_count": 16,
   "id": "b5815fee-bb9d-4189-a8d0-82fe60948e49",
   "metadata": {},
   "outputs": [],
   "source": [
    "def parse_odata_filter(query, joins):\n",
    "  # Replace lookup column with the associated table\n",
    "  main_col_matches = re.findall('\\w+\\/', query)\n",
    "  main_col_replacements = []\n",
    "  for match in main_col_matches:\n",
    "    main_col_replacements.append(joins[match[:-1]]['table'])\n",
    "  for match, replacement in zip(main_col_matches, main_col_replacements):\n",
    "    query = re.sub(match, replacement + '.', query)\n",
    "  \n",
    "  # Replace slashes with dots\n",
    "  # query = query.replace('/', '.')\n",
    "  # lt\n",
    "  query = query.replace(' lt ', ' < ')\n",
    "  # le\n",
    "  query = query.replace(' le ', ' <= ')\n",
    "  # gt\n",
    "  query = query.replace(' gt ', ' > ')\n",
    "  # ge\n",
    "  query = query.replace(' ge ', ' >= ')\n",
    "  # eq\n",
    "  query = query.replace(' eq ', ' = ')\n",
    "  # ne\n",
    "  query = query.replace(' ne ', ' != ')\n",
    "  # startswith(column, string)\n",
    "  query = re.sub('startsWith', 'startswith', query, re.IGNORECASE)\n",
    "  matches_sw = re.findall('startswith\\(.*?\\)', query)\n",
    "  if len(matches_sw) > 0:\n",
    "    for match in matches_sw:\n",
    "      # Extract text between brackets\n",
    "      sw_terms = re.sub('.*\\(', '', match)\n",
    "      sw_terms = re.sub('\\).*', '', sw_terms)\n",
    "      sw_terms = [s.strip() for s in sw_terms.split(',')]\n",
    "      sw_terms[1] = re.sub('[^a-zA-Z0-9]', '', sw_terms[1])\n",
    "      query = re.sub(match.replace('(', '\\(').replace(')', '\\)'), f\"{sw_terms[0]} LIKE '{sw_terms[1]}%'\", query)\n",
    "      \n",
    "      print(query)\n",
    "      \n",
    "  # substringof(string, column)\n",
    "  matches_so = re.findall('substringof\\(.*?\\)', query, re.IGNORECASE)\n",
    "  if len(matches_so) > 0:\n",
    "    for match in matches_so:\n",
    "      # Extract text between brackets\n",
    "      so_terms = re.sub('.*\\(', '', match)\n",
    "      so_terms = re.sub('\\).*', '', so_terms)\n",
    "      so_terms = [s.strip() for s in so_terms.split(',')]\n",
    "      so_terms[0] = re.sub('[^a-zA-Z0-9]', '', so_terms[0])\n",
    "      query = re.sub(match.replace('(', '\\(').replace(')', '\\)'), f\"{so_terms[1]} LIKE '%{so_terms[0]}%'\", query)\n",
    "  \n",
    "  # day()\n",
    "\n",
    "  # month()\n",
    "  \n",
    "  # year()\n",
    "  \n",
    "  # hour()\n",
    "  \n",
    "  # minute()\n",
    "  \n",
    "  # second()\n",
    "  \n",
    "  return query"
   ]
  },
  {
   "cell_type": "code",
   "execution_count": 20,
   "id": "0ee5e56e-889c-42ba-a908-c5631641dd8c",
   "metadata": {},
   "outputs": [],
   "source": [
    "query1 = {\n",
    "    '$select': 'Id,tableTitle,parentDatasetID/datasetTitle,parentDatasetID/dataDomain,parentDatasetID/owner',\n",
    "    '$filter': \"startswith(parentDatasetID/dataDomain,'O') and startswith(parentDatasetID/owner,'B')\",\n",
    "    '$expand': 'parentDatasetID'\n",
    "}\n",
    "\n",
    "query2 = {\n",
    "    '$select': 'Id,tableTitle,parentDatasetID/datasetTitle,parentDatasetID/dataDomain,parentDatasetID/owner',\n",
    "    '$filter': \"parentDatasetID/dataDomain eq 'Ops'\",\n",
    "    '$expand': 'parentDatasetID'\n",
    "}\n",
    "\n",
    "joins = {\n",
    "    'parentDatasetID': {\n",
    "        'table': 'dc_datasets'\n",
    "    }\n",
    "}"
   ]
  },
  {
   "cell_type": "code",
   "execution_count": 31,
   "id": "21b36e5d-ecb3-4cc7-b3a6-d9242e44b8f0",
   "metadata": {},
   "outputs": [],
   "source": [
    "import re\n",
    "\n",
    "def parse_odata_query(query):\n",
    "    output = {\n",
    "        'main_cols': [],\n",
    "        'join_cols': [],\n",
    "        'filter_query': '',\n",
    "        'expand_cols': []\n",
    "    }\n",
    "    if not query:\n",
    "        return\n",
    "    for query, value in query.items():\n",
    "        if query == '$filter':\n",
    "            output['filter_query'] = value\n",
    "        else:\n",
    "            columns = [v.strip() for v in value.split(',')]\n",
    "            if query == '$select':    \n",
    "                for column in columns:\n",
    "                    if '/' in column:\n",
    "                        output['join_cols'].append(column)\n",
    "                    else:\n",
    "                        output['main_cols'].append(column)\n",
    "            elif query == '$expand':\n",
    "                output['expand_cols'].extend(columns)\n",
    "    return output"
   ]
  },
  {
   "cell_type": "code",
   "execution_count": 32,
   "id": "b3a323af-1d46-46d2-a9ca-58d31c3d35fa",
   "metadata": {},
   "outputs": [
    {
     "data": {
      "text/plain": [
       "{'main_cols': ['Id', 'tableTitle'],\n",
       " 'join_cols': ['parentDatasetID/datasetTitle',\n",
       "  'parentDatasetID/dataDomain',\n",
       "  'parentDatasetID/owner'],\n",
       " 'filter_query': \"startswith(parentDatasetID/dataDomain,'O') and startswith(parentDatasetID/owner,'B')\",\n",
       " 'expand_cols': ['parentDatasetID']}"
      ]
     },
     "execution_count": 32,
     "metadata": {},
     "output_type": "execute_result"
    }
   ],
   "source": [
    "parse_odata_query(query1)"
   ]
  },
  {
   "cell_type": "code",
   "execution_count": null,
   "id": "042077e1-589f-4f59-bc71-8555bfbdf778",
   "metadata": {},
   "outputs": [],
   "source": []
  }
 ],
 "metadata": {
  "kernelspec": {
   "display_name": "ravenpoint",
   "language": "python",
   "name": "ravenpoint"
  },
  "language_info": {
   "codemirror_mode": {
    "name": "ipython",
    "version": 3
   },
   "file_extension": ".py",
   "mimetype": "text/x-python",
   "name": "python",
   "nbconvert_exporter": "python",
   "pygments_lexer": "ipython3",
   "version": "3.9.12"
  }
 },
 "nbformat": 4,
 "nbformat_minor": 5
}
