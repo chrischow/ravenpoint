{
 "cells": [
  {
   "cell_type": "code",
   "execution_count": 5,
   "metadata": {},
   "outputs": [],
   "source": [
    "connstr = \"D:/rdo/ravenpoint/project/data/data.sqlite\""
   ]
  },
  {
   "cell_type": "code",
   "execution_count": 6,
   "metadata": {},
   "outputs": [],
   "source": [
    "import sqlite3\n"
   ]
  },
  {
   "cell_type": "code",
   "execution_count": 10,
   "metadata": {},
   "outputs": [
    {
     "name": "stdout",
     "output_type": "stream",
     "text": [
      "[(1, None, '5c9d62cf-859c-4a7b-8c8a-4c4eba674b70', 'test', 'sdfsfsdfdsd', 'dsfdsdfd')]\n"
     ]
    }
   ],
   "source": [
    "with sqlite3.connect(connstr) as conn:\n",
    "    cur = conn.cursor()\n",
    "    cur.execute('SELECT * FROM organisations WHERE org = \"5c9d62cf-859c-4a7b-8c8a-4c4eba674b70\"')\n",
    "    rows = cur.fetchall()\n",
    "    print(rows)\n",
    "\n"
   ]
  },
  {
   "cell_type": "code",
   "execution_count": null,
   "metadata": {},
   "outputs": [],
   "source": []
  }
 ],
 "metadata": {
  "kernelspec": {
   "display_name": "ravenpoint",
   "language": "python",
   "name": "python3"
  },
  "language_info": {
   "codemirror_mode": {
    "name": "ipython",
    "version": 3
   },
   "file_extension": ".py",
   "mimetype": "text/x-python",
   "name": "python",
   "nbconvert_exporter": "python",
   "pygments_lexer": "ipython3",
   "version": "3.9.12"
  },
  "orig_nbformat": 4
 },
 "nbformat": 4,
 "nbformat_minor": 2
}
